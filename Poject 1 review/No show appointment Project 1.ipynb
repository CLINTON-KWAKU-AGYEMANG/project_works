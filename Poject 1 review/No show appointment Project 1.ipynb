{
 "cells": [
  {
   "cell_type": "markdown",
   "id": "6b4116b3",
   "metadata": {},
   "source": [
    "# Project: 'No Show Appointment' data analysis\n",
    "\n",
    "## Table of Contents\n",
    "<ul>\n",
    "<li><a href=\"#intro\">Introduction</a></li>\n",
    "<li><a href=\"#wrangling\">Data Wrangling</a></li>\n",
    "<li><a href=\"#eda\">Exploratory Data Analysis</a></li>\n",
    "</ul>"
   ]
  },
  {
   "cell_type": "markdown",
   "id": "9690eec5",
   "metadata": {},
   "source": [
    "<a id='intro'></a>\n",
    "## Introduction\n",
    "> In this project I will be doing an analysis on the \"No show appoinment dataset\". Data  was collected  on the question\n",
    "of whether or not patients show up for their medical appointment they booked in a hospital in Brazil. The dataset contains information of 100,000 medical appointments from patients with different attribute of disease.\n",
    ">\n",
    "> **These questions will be analysed;**\n",
    "> 1. **What is the relation between the age and the no-show column?**\n",
    "> 2. **What is the distribution of patients between scholarship and disease?**\n",
    "> 3. **What is the Gender distribution of the Scholarship among the patients?.**"
   ]
  },
  {
   "cell_type": "code",
   "execution_count": 1,
   "id": "be78d433",
   "metadata": {},
   "outputs": [],
   "source": [
    "import pandas as pd\n",
    "import numpy as np\n",
    "import matplotlib.pyplot as plt"
   ]
  },
  {
   "cell_type": "markdown",
   "id": "44975750",
   "metadata": {},
   "source": [
    "<a id='wrangling'></a>\n",
    "## Data Wrangling\n",
    "\n",
    "> In this section of the project, I will load in the data, check for cleanliness(duplicates, missing data, fixing data types), and then trim and clean your dataset for analysis. "
   ]
  },
  {
   "cell_type": "code",
   "execution_count": 2,
   "id": "5fd411ff",
   "metadata": {
    "scrolled": false
   },
   "outputs": [
    {
     "name": "stdout",
     "output_type": "stream",
     "text": [
      "           PatientId  AppointmentID Gender          ScheduledDay  \\\n",
      "0       2.987250e+13        5642903      F  2016-04-29T18:38:08Z   \n",
      "1       5.589978e+14        5642503      M  2016-04-29T16:08:27Z   \n",
      "2       4.262962e+12        5642549      F  2016-04-29T16:19:04Z   \n",
      "3       8.679512e+11        5642828      F  2016-04-29T17:29:31Z   \n",
      "4       8.841186e+12        5642494      F  2016-04-29T16:07:23Z   \n",
      "...              ...            ...    ...                   ...   \n",
      "110522  2.572134e+12        5651768      F  2016-05-03T09:15:35Z   \n",
      "110523  3.596266e+12        5650093      F  2016-05-03T07:27:33Z   \n",
      "110524  1.557663e+13        5630692      F  2016-04-27T16:03:52Z   \n",
      "110525  9.213493e+13        5630323      F  2016-04-27T15:09:23Z   \n",
      "110526  3.775115e+14        5629448      F  2016-04-27T13:30:56Z   \n",
      "\n",
      "              AppointmentDay  Age      Neighbourhood  Scholarship  \\\n",
      "0       2016-04-29T00:00:00Z   62    JARDIM DA PENHA            0   \n",
      "1       2016-04-29T00:00:00Z   56    JARDIM DA PENHA            0   \n",
      "2       2016-04-29T00:00:00Z   62      MATA DA PRAIA            0   \n",
      "3       2016-04-29T00:00:00Z    8  PONTAL DE CAMBURI            0   \n",
      "4       2016-04-29T00:00:00Z   56    JARDIM DA PENHA            0   \n",
      "...                      ...  ...                ...          ...   \n",
      "110522  2016-06-07T00:00:00Z   56        MARIA ORTIZ            0   \n",
      "110523  2016-06-07T00:00:00Z   51        MARIA ORTIZ            0   \n",
      "110524  2016-06-07T00:00:00Z   21        MARIA ORTIZ            0   \n",
      "110525  2016-06-07T00:00:00Z   38        MARIA ORTIZ            0   \n",
      "110526  2016-06-07T00:00:00Z   54        MARIA ORTIZ            0   \n",
      "\n",
      "        Hipertension  Diabetes  Alcoholism  Handcap  SMS_received No-show  \n",
      "0                  1         0           0        0             0      No  \n",
      "1                  0         0           0        0             0      No  \n",
      "2                  0         0           0        0             0      No  \n",
      "3                  0         0           0        0             0      No  \n",
      "4                  1         1           0        0             0      No  \n",
      "...              ...       ...         ...      ...           ...     ...  \n",
      "110522             0         0           0        0             1      No  \n",
      "110523             0         0           0        0             1      No  \n",
      "110524             0         0           0        0             1      No  \n",
      "110525             0         0           0        0             1      No  \n",
      "110526             0         0           0        0             1      No  \n",
      "\n",
      "[110527 rows x 14 columns]\n"
     ]
    }
   ],
   "source": [
    "# load the data set and display few roles to know the columns and kind of data I am dealing with\n",
    "df_nsa = pd.read_csv('noshowappointments-kagglev2-may-2016.csv')\n",
    "print(df_nsa)"
   ]
  },
  {
   "cell_type": "code",
   "execution_count": 3,
   "id": "f321957c",
   "metadata": {},
   "outputs": [],
   "source": [
    "df_nsa.drop(['ScheduledDay', 'AppointmentDay', 'Neighbourhood', 'Handcap'], axis=1, inplace=True)"
   ]
  },
  {
   "cell_type": "code",
   "execution_count": 4,
   "id": "03e6ddf3",
   "metadata": {},
   "outputs": [
    {
     "data": {
      "text/html": [
       "<div>\n",
       "<style scoped>\n",
       "    .dataframe tbody tr th:only-of-type {\n",
       "        vertical-align: middle;\n",
       "    }\n",
       "\n",
       "    .dataframe tbody tr th {\n",
       "        vertical-align: top;\n",
       "    }\n",
       "\n",
       "    .dataframe thead th {\n",
       "        text-align: right;\n",
       "    }\n",
       "</style>\n",
       "<table border=\"1\" class=\"dataframe\">\n",
       "  <thead>\n",
       "    <tr style=\"text-align: right;\">\n",
       "      <th></th>\n",
       "      <th>PatientId</th>\n",
       "      <th>AppointmentID</th>\n",
       "      <th>Gender</th>\n",
       "      <th>Age</th>\n",
       "      <th>Scholarship</th>\n",
       "      <th>Hipertension</th>\n",
       "      <th>Diabetes</th>\n",
       "      <th>Alcoholism</th>\n",
       "      <th>SMS_received</th>\n",
       "      <th>No-show</th>\n",
       "    </tr>\n",
       "  </thead>\n",
       "  <tbody>\n",
       "    <tr>\n",
       "      <th>0</th>\n",
       "      <td>2.987250e+13</td>\n",
       "      <td>5642903</td>\n",
       "      <td>F</td>\n",
       "      <td>62</td>\n",
       "      <td>0</td>\n",
       "      <td>1</td>\n",
       "      <td>0</td>\n",
       "      <td>0</td>\n",
       "      <td>0</td>\n",
       "      <td>No</td>\n",
       "    </tr>\n",
       "    <tr>\n",
       "      <th>1</th>\n",
       "      <td>5.589978e+14</td>\n",
       "      <td>5642503</td>\n",
       "      <td>M</td>\n",
       "      <td>56</td>\n",
       "      <td>0</td>\n",
       "      <td>0</td>\n",
       "      <td>0</td>\n",
       "      <td>0</td>\n",
       "      <td>0</td>\n",
       "      <td>No</td>\n",
       "    </tr>\n",
       "    <tr>\n",
       "      <th>2</th>\n",
       "      <td>4.262962e+12</td>\n",
       "      <td>5642549</td>\n",
       "      <td>F</td>\n",
       "      <td>62</td>\n",
       "      <td>0</td>\n",
       "      <td>0</td>\n",
       "      <td>0</td>\n",
       "      <td>0</td>\n",
       "      <td>0</td>\n",
       "      <td>No</td>\n",
       "    </tr>\n",
       "    <tr>\n",
       "      <th>3</th>\n",
       "      <td>8.679512e+11</td>\n",
       "      <td>5642828</td>\n",
       "      <td>F</td>\n",
       "      <td>8</td>\n",
       "      <td>0</td>\n",
       "      <td>0</td>\n",
       "      <td>0</td>\n",
       "      <td>0</td>\n",
       "      <td>0</td>\n",
       "      <td>No</td>\n",
       "    </tr>\n",
       "    <tr>\n",
       "      <th>4</th>\n",
       "      <td>8.841186e+12</td>\n",
       "      <td>5642494</td>\n",
       "      <td>F</td>\n",
       "      <td>56</td>\n",
       "      <td>0</td>\n",
       "      <td>1</td>\n",
       "      <td>1</td>\n",
       "      <td>0</td>\n",
       "      <td>0</td>\n",
       "      <td>No</td>\n",
       "    </tr>\n",
       "  </tbody>\n",
       "</table>\n",
       "</div>"
      ],
      "text/plain": [
       "      PatientId  AppointmentID Gender  Age  Scholarship  Hipertension  \\\n",
       "0  2.987250e+13        5642903      F   62            0             1   \n",
       "1  5.589978e+14        5642503      M   56            0             0   \n",
       "2  4.262962e+12        5642549      F   62            0             0   \n",
       "3  8.679512e+11        5642828      F    8            0             0   \n",
       "4  8.841186e+12        5642494      F   56            0             1   \n",
       "\n",
       "   Diabetes  Alcoholism  SMS_received No-show  \n",
       "0         0           0             0      No  \n",
       "1         0           0             0      No  \n",
       "2         0           0             0      No  \n",
       "3         0           0             0      No  \n",
       "4         1           0             0      No  "
      ]
     },
     "execution_count": 4,
     "metadata": {},
     "output_type": "execute_result"
    }
   ],
   "source": [
    "df_nsa.head()"
   ]
  },
  {
   "cell_type": "code",
   "execution_count": 5,
   "id": "30619d96",
   "metadata": {},
   "outputs": [
    {
     "data": {
      "text/plain": [
       "(110527, 10)"
      ]
     },
     "execution_count": 5,
     "metadata": {},
     "output_type": "execute_result"
    }
   ],
   "source": [
    "# Show the number of rows and columns in the dataset\n",
    "df_nsa.shape"
   ]
  },
  {
   "cell_type": "code",
   "execution_count": 6,
   "id": "52fd945d",
   "metadata": {},
   "outputs": [
    {
     "name": "stdout",
     "output_type": "stream",
     "text": [
      "<class 'pandas.core.frame.DataFrame'>\n",
      "RangeIndex: 110527 entries, 0 to 110526\n",
      "Data columns (total 10 columns):\n",
      " #   Column         Non-Null Count   Dtype  \n",
      "---  ------         --------------   -----  \n",
      " 0   PatientId      110527 non-null  float64\n",
      " 1   AppointmentID  110527 non-null  int64  \n",
      " 2   Gender         110527 non-null  object \n",
      " 3   Age            110527 non-null  int64  \n",
      " 4   Scholarship    110527 non-null  int64  \n",
      " 5   Hipertension   110527 non-null  int64  \n",
      " 6   Diabetes       110527 non-null  int64  \n",
      " 7   Alcoholism     110527 non-null  int64  \n",
      " 8   SMS_received   110527 non-null  int64  \n",
      " 9   No-show        110527 non-null  object \n",
      "dtypes: float64(1), int64(7), object(2)\n",
      "memory usage: 8.4+ MB\n"
     ]
    }
   ],
   "source": [
    "# display the number of data missing and the various types of data for each colunm\n",
    "df_nsa.info()"
   ]
  },
  {
   "cell_type": "code",
   "execution_count": 7,
   "id": "ed37c889",
   "metadata": {},
   "outputs": [
    {
     "data": {
      "text/html": [
       "<div>\n",
       "<style scoped>\n",
       "    .dataframe tbody tr th:only-of-type {\n",
       "        vertical-align: middle;\n",
       "    }\n",
       "\n",
       "    .dataframe tbody tr th {\n",
       "        vertical-align: top;\n",
       "    }\n",
       "\n",
       "    .dataframe thead th {\n",
       "        text-align: right;\n",
       "    }\n",
       "</style>\n",
       "<table border=\"1\" class=\"dataframe\">\n",
       "  <thead>\n",
       "    <tr style=\"text-align: right;\">\n",
       "      <th></th>\n",
       "      <th>PatientId</th>\n",
       "      <th>AppointmentID</th>\n",
       "      <th>Age</th>\n",
       "      <th>Scholarship</th>\n",
       "      <th>Hipertension</th>\n",
       "      <th>Diabetes</th>\n",
       "      <th>Alcoholism</th>\n",
       "      <th>SMS_received</th>\n",
       "    </tr>\n",
       "  </thead>\n",
       "  <tbody>\n",
       "    <tr>\n",
       "      <th>count</th>\n",
       "      <td>1.105270e+05</td>\n",
       "      <td>1.105270e+05</td>\n",
       "      <td>110527.000000</td>\n",
       "      <td>110527.000000</td>\n",
       "      <td>110527.000000</td>\n",
       "      <td>110527.000000</td>\n",
       "      <td>110527.000000</td>\n",
       "      <td>110527.000000</td>\n",
       "    </tr>\n",
       "    <tr>\n",
       "      <th>mean</th>\n",
       "      <td>1.474963e+14</td>\n",
       "      <td>5.675305e+06</td>\n",
       "      <td>37.088874</td>\n",
       "      <td>0.098266</td>\n",
       "      <td>0.197246</td>\n",
       "      <td>0.071865</td>\n",
       "      <td>0.030400</td>\n",
       "      <td>0.321026</td>\n",
       "    </tr>\n",
       "    <tr>\n",
       "      <th>std</th>\n",
       "      <td>2.560949e+14</td>\n",
       "      <td>7.129575e+04</td>\n",
       "      <td>23.110205</td>\n",
       "      <td>0.297675</td>\n",
       "      <td>0.397921</td>\n",
       "      <td>0.258265</td>\n",
       "      <td>0.171686</td>\n",
       "      <td>0.466873</td>\n",
       "    </tr>\n",
       "    <tr>\n",
       "      <th>min</th>\n",
       "      <td>3.921784e+04</td>\n",
       "      <td>5.030230e+06</td>\n",
       "      <td>-1.000000</td>\n",
       "      <td>0.000000</td>\n",
       "      <td>0.000000</td>\n",
       "      <td>0.000000</td>\n",
       "      <td>0.000000</td>\n",
       "      <td>0.000000</td>\n",
       "    </tr>\n",
       "    <tr>\n",
       "      <th>25%</th>\n",
       "      <td>4.172614e+12</td>\n",
       "      <td>5.640286e+06</td>\n",
       "      <td>18.000000</td>\n",
       "      <td>0.000000</td>\n",
       "      <td>0.000000</td>\n",
       "      <td>0.000000</td>\n",
       "      <td>0.000000</td>\n",
       "      <td>0.000000</td>\n",
       "    </tr>\n",
       "    <tr>\n",
       "      <th>50%</th>\n",
       "      <td>3.173184e+13</td>\n",
       "      <td>5.680573e+06</td>\n",
       "      <td>37.000000</td>\n",
       "      <td>0.000000</td>\n",
       "      <td>0.000000</td>\n",
       "      <td>0.000000</td>\n",
       "      <td>0.000000</td>\n",
       "      <td>0.000000</td>\n",
       "    </tr>\n",
       "    <tr>\n",
       "      <th>75%</th>\n",
       "      <td>9.439172e+13</td>\n",
       "      <td>5.725524e+06</td>\n",
       "      <td>55.000000</td>\n",
       "      <td>0.000000</td>\n",
       "      <td>0.000000</td>\n",
       "      <td>0.000000</td>\n",
       "      <td>0.000000</td>\n",
       "      <td>1.000000</td>\n",
       "    </tr>\n",
       "    <tr>\n",
       "      <th>max</th>\n",
       "      <td>9.999816e+14</td>\n",
       "      <td>5.790484e+06</td>\n",
       "      <td>115.000000</td>\n",
       "      <td>1.000000</td>\n",
       "      <td>1.000000</td>\n",
       "      <td>1.000000</td>\n",
       "      <td>1.000000</td>\n",
       "      <td>1.000000</td>\n",
       "    </tr>\n",
       "  </tbody>\n",
       "</table>\n",
       "</div>"
      ],
      "text/plain": [
       "          PatientId  AppointmentID            Age    Scholarship  \\\n",
       "count  1.105270e+05   1.105270e+05  110527.000000  110527.000000   \n",
       "mean   1.474963e+14   5.675305e+06      37.088874       0.098266   \n",
       "std    2.560949e+14   7.129575e+04      23.110205       0.297675   \n",
       "min    3.921784e+04   5.030230e+06      -1.000000       0.000000   \n",
       "25%    4.172614e+12   5.640286e+06      18.000000       0.000000   \n",
       "50%    3.173184e+13   5.680573e+06      37.000000       0.000000   \n",
       "75%    9.439172e+13   5.725524e+06      55.000000       0.000000   \n",
       "max    9.999816e+14   5.790484e+06     115.000000       1.000000   \n",
       "\n",
       "        Hipertension       Diabetes     Alcoholism   SMS_received  \n",
       "count  110527.000000  110527.000000  110527.000000  110527.000000  \n",
       "mean        0.197246       0.071865       0.030400       0.321026  \n",
       "std         0.397921       0.258265       0.171686       0.466873  \n",
       "min         0.000000       0.000000       0.000000       0.000000  \n",
       "25%         0.000000       0.000000       0.000000       0.000000  \n",
       "50%         0.000000       0.000000       0.000000       0.000000  \n",
       "75%         0.000000       0.000000       0.000000       1.000000  \n",
       "max         1.000000       1.000000       1.000000       1.000000  "
      ]
     },
     "execution_count": 7,
     "metadata": {},
     "output_type": "execute_result"
    }
   ],
   "source": [
    "# check for summary statistic of the data\n",
    "df_nsa.describe()"
   ]
  },
  {
   "cell_type": "code",
   "execution_count": 8,
   "id": "2319b5ec",
   "metadata": {
    "scrolled": true
   },
   "outputs": [
    {
     "data": {
      "text/plain": [
       "array([ 62,  56,   8,  76,  23,  39,  21,  19,  30,  29,  22,  28,  54,\n",
       "        15,  50,  40,  46,   4,  13,  65,  45,  51,  32,  12,  61,  38,\n",
       "        79,  18,  63,  64,  85,  59,  55,  71,  49,  78,  31,  58,  27,\n",
       "         6,   2,  11,   7,   0,   3,   1,  69,  68,  60,  67,  36,  10,\n",
       "        35,  20,  26,  34,  33,  16,  42,   5,  47,  17,  41,  44,  37,\n",
       "        24,  66,  77,  81,  70,  53,  75,  73,  52,  74,  43,  89,  57,\n",
       "        14,   9,  48,  83,  72,  25,  80,  87,  88,  84,  82,  90,  94,\n",
       "        86,  91,  98,  92,  96,  93,  95,  97, 102, 115, 100,  99,  -1],\n",
       "      dtype=int64)"
      ]
     },
     "execution_count": 8,
     "metadata": {},
     "output_type": "execute_result"
    }
   ],
   "source": [
    "# display the unique age values of the patients\n",
    "df_nsa.Age.unique()"
   ]
  },
  {
   "cell_type": "code",
   "execution_count": 9,
   "id": "eba5945e",
   "metadata": {},
   "outputs": [
    {
     "data": {
      "text/html": [
       "<div>\n",
       "<style scoped>\n",
       "    .dataframe tbody tr th:only-of-type {\n",
       "        vertical-align: middle;\n",
       "    }\n",
       "\n",
       "    .dataframe tbody tr th {\n",
       "        vertical-align: top;\n",
       "    }\n",
       "\n",
       "    .dataframe thead th {\n",
       "        text-align: right;\n",
       "    }\n",
       "</style>\n",
       "<table border=\"1\" class=\"dataframe\">\n",
       "  <thead>\n",
       "    <tr style=\"text-align: right;\">\n",
       "      <th></th>\n",
       "      <th>PatientId</th>\n",
       "      <th>AppointmentID</th>\n",
       "      <th>Gender</th>\n",
       "      <th>Age</th>\n",
       "      <th>Scholarship</th>\n",
       "      <th>Hipertension</th>\n",
       "      <th>Diabetes</th>\n",
       "      <th>Alcoholism</th>\n",
       "      <th>SMS_received</th>\n",
       "      <th>No-show</th>\n",
       "    </tr>\n",
       "  </thead>\n",
       "  <tbody>\n",
       "    <tr>\n",
       "      <th>99832</th>\n",
       "      <td>4.659432e+14</td>\n",
       "      <td>5775010</td>\n",
       "      <td>F</td>\n",
       "      <td>-1</td>\n",
       "      <td>0</td>\n",
       "      <td>0</td>\n",
       "      <td>0</td>\n",
       "      <td>0</td>\n",
       "      <td>0</td>\n",
       "      <td>No</td>\n",
       "    </tr>\n",
       "  </tbody>\n",
       "</table>\n",
       "</div>"
      ],
      "text/plain": [
       "          PatientId  AppointmentID Gender  Age  Scholarship  Hipertension  \\\n",
       "99832  4.659432e+14        5775010      F   -1            0             0   \n",
       "\n",
       "       Diabetes  Alcoholism  SMS_received No-show  \n",
       "99832         0           0             0      No  "
      ]
     },
     "execution_count": 9,
     "metadata": {},
     "output_type": "execute_result"
    }
   ],
   "source": [
    "# there is an outlier in the age column which is (-1)\n",
    "df_nsa[df_nsa['Age'] == -1]"
   ]
  },
  {
   "cell_type": "code",
   "execution_count": 10,
   "id": "a30a7749",
   "metadata": {},
   "outputs": [
    {
     "data": {
      "text/plain": [
       "[99832]"
      ]
     },
     "execution_count": 10,
     "metadata": {},
     "output_type": "execute_result"
    }
   ],
   "source": [
    "#Index of the outlier\n",
    "df_nsa[df_nsa['Age'] == -1].head(1).index.tolist()"
   ]
  },
  {
   "cell_type": "code",
   "execution_count": 11,
   "id": "c046b491",
   "metadata": {
    "scrolled": true
   },
   "outputs": [],
   "source": [
    "# Drop the column with the outlier\n",
    "df_nsa.drop([99832], axis = 0, inplace=True)"
   ]
  },
  {
   "cell_type": "code",
   "execution_count": 12,
   "id": "c00ddf47",
   "metadata": {},
   "outputs": [
    {
     "data": {
      "text/html": [
       "<div>\n",
       "<style scoped>\n",
       "    .dataframe tbody tr th:only-of-type {\n",
       "        vertical-align: middle;\n",
       "    }\n",
       "\n",
       "    .dataframe tbody tr th {\n",
       "        vertical-align: top;\n",
       "    }\n",
       "\n",
       "    .dataframe thead th {\n",
       "        text-align: right;\n",
       "    }\n",
       "</style>\n",
       "<table border=\"1\" class=\"dataframe\">\n",
       "  <thead>\n",
       "    <tr style=\"text-align: right;\">\n",
       "      <th></th>\n",
       "      <th>PatientId</th>\n",
       "      <th>AppointmentID</th>\n",
       "      <th>Gender</th>\n",
       "      <th>Age</th>\n",
       "      <th>Scholarship</th>\n",
       "      <th>Hipertension</th>\n",
       "      <th>Diabetes</th>\n",
       "      <th>Alcoholism</th>\n",
       "      <th>SMS_received</th>\n",
       "      <th>No-show</th>\n",
       "    </tr>\n",
       "  </thead>\n",
       "  <tbody>\n",
       "  </tbody>\n",
       "</table>\n",
       "</div>"
      ],
      "text/plain": [
       "Empty DataFrame\n",
       "Columns: [PatientId, AppointmentID, Gender, Age, Scholarship, Hipertension, Diabetes, Alcoholism, SMS_received, No-show]\n",
       "Index: []"
      ]
     },
     "execution_count": 12,
     "metadata": {},
     "output_type": "execute_result"
    }
   ],
   "source": [
    "#checking if the outlier row has been dropped\n",
    "df_nsa[df_nsa['Age'] == -1]"
   ]
  },
  {
   "cell_type": "code",
   "execution_count": 13,
   "id": "489d95c4",
   "metadata": {},
   "outputs": [
    {
     "data": {
      "text/plain": [
       "0"
      ]
     },
     "execution_count": 13,
     "metadata": {},
     "output_type": "execute_result"
    }
   ],
   "source": [
    "# To check for data that appear more than ones for each patient\n",
    "df_nsa.duplicated().sum()"
   ]
  },
  {
   "cell_type": "code",
   "execution_count": 14,
   "id": "61161563",
   "metadata": {},
   "outputs": [
    {
     "data": {
      "text/plain": [
       "PatientId         62298\n",
       "AppointmentID    110526\n",
       "Gender                2\n",
       "Age                 103\n",
       "Scholarship           2\n",
       "Hipertension          2\n",
       "Diabetes              2\n",
       "Alcoholism            2\n",
       "SMS_received          2\n",
       "No-show               2\n",
       "dtype: int64"
      ]
     },
     "execution_count": 14,
     "metadata": {},
     "output_type": "execute_result"
    }
   ],
   "source": [
    "# To check for the number of uniques attributes in each column\n",
    "df_nsa.nunique()"
   ]
  },
  {
   "cell_type": "code",
   "execution_count": 15,
   "id": "4a64de9a",
   "metadata": {},
   "outputs": [
    {
     "data": {
      "image/png": "[encoded data removed]",
      "text/plain": [
       "<Figure size 576x576 with 4 Axes>"
      ]
     },
     "metadata": {
      "needs_background": "light"
     },
     "output_type": "display_data"
    }
   ],
   "source": [
    "# visualise the various disease of the patients\n",
    "\n",
    "df_nsa.hist(['Hipertension','Diabetes','Alcoholism'],figsize = (8,8));"
   ]
  },
  {
   "cell_type": "code",
   "execution_count": 20,
   "id": "d45f3367",
   "metadata": {
    "scrolled": true
   },
   "outputs": [
    {
     "data": {
      "image/png": "[encoded data removed]",
      "text/plain": [
       "<Figure size 360x360 with 1 Axes>"
      ]
     },
     "metadata": {
      "needs_background": "light"
     },
     "output_type": "display_data"
    }
   ],
   "source": [
    "# visualise the age group of the patients\n",
    "def Histogram(arg):\n",
    "    df_nsa[arg].hist(figsize = (5,5))\n",
    "    \n",
    "Histogram('Age')"
   ]
  },
  {
   "cell_type": "code",
   "execution_count": 19,
   "id": "c9c45ec8",
   "metadata": {
    "scrolled": true
   },
   "outputs": [
    {
     "data": {
      "image/png": "[encoded data removed]",
      "text/plain": [
       "<Figure size 360x360 with 1 Axes>"
      ]
     },
     "metadata": {
      "needs_background": "light"
     },
     "output_type": "display_data"
    }
   ],
   "source": [
    "#visualise the SMS_recieved column\n",
    "def Histogram(arg):\n",
    "    df_nsa[arg].hist(figsize = (5,5))\n",
    "    \n",
    "Histogram('SMS_received')"
   ]
  },
  {
   "cell_type": "markdown",
   "id": "cb3c8fc2",
   "metadata": {},
   "source": [
    "For the SMS_recieved, '0' means that the patient did not receive any sms, whiles the '1' means that the patient received an sms\n",
    "\n"
   ]
  },
  {
   "cell_type": "code",
   "execution_count": 21,
   "id": "95fd9f85",
   "metadata": {},
   "outputs": [
    {
     "data": {
      "image/png": "[encoded data removed]",
      "text/plain": [
       "<Figure size 360x360 with 1 Axes>"
      ]
     },
     "metadata": {
      "needs_background": "light"
     },
     "output_type": "display_data"
    }
   ],
   "source": [
    "def Histogram(arg):\n",
    "    df_nsa[arg].hist(figsize = (5,5))\n",
    "    \n",
    "Histogram('No-show')"
   ]
  },
  {
   "cell_type": "markdown",
   "id": "0ca344d2",
   "metadata": {},
   "source": [
    "**The 'No' in the 'no-show' column means that the patient showed up for the appoinment and the 'Yes' means that the patient did not show up for the appointment**\n",
    "\n",
    "The graph shows that most of the patients showed up for the appointment."
   ]
  },
  {
   "cell_type": "code",
   "execution_count": 22,
   "id": "5a29d3bf",
   "metadata": {},
   "outputs": [
    {
     "data": {
      "text/html": [
       "<div>\n",
       "<style scoped>\n",
       "    .dataframe tbody tr th:only-of-type {\n",
       "        vertical-align: middle;\n",
       "    }\n",
       "\n",
       "    .dataframe tbody tr th {\n",
       "        vertical-align: top;\n",
       "    }\n",
       "\n",
       "    .dataframe thead th {\n",
       "        text-align: right;\n",
       "    }\n",
       "</style>\n",
       "<table border=\"1\" class=\"dataframe\">\n",
       "  <thead>\n",
       "    <tr style=\"text-align: right;\">\n",
       "      <th></th>\n",
       "      <th>PatientId</th>\n",
       "      <th>AppointmentID</th>\n",
       "      <th>Gender</th>\n",
       "      <th>Age</th>\n",
       "      <th>Scholarship</th>\n",
       "      <th>Hipertension</th>\n",
       "      <th>Diabetes</th>\n",
       "      <th>Alcoholism</th>\n",
       "      <th>SMS_received</th>\n",
       "      <th>No-show</th>\n",
       "    </tr>\n",
       "  </thead>\n",
       "  <tbody>\n",
       "    <tr>\n",
       "      <th>6</th>\n",
       "      <td>7.336882e+14</td>\n",
       "      <td>5630279</td>\n",
       "      <td>F</td>\n",
       "      <td>23</td>\n",
       "      <td>0</td>\n",
       "      <td>0</td>\n",
       "      <td>0</td>\n",
       "      <td>0</td>\n",
       "      <td>0</td>\n",
       "      <td>Yes</td>\n",
       "    </tr>\n",
       "    <tr>\n",
       "      <th>7</th>\n",
       "      <td>3.449833e+12</td>\n",
       "      <td>5630575</td>\n",
       "      <td>F</td>\n",
       "      <td>39</td>\n",
       "      <td>0</td>\n",
       "      <td>0</td>\n",
       "      <td>0</td>\n",
       "      <td>0</td>\n",
       "      <td>0</td>\n",
       "      <td>Yes</td>\n",
       "    </tr>\n",
       "    <tr>\n",
       "      <th>11</th>\n",
       "      <td>7.542951e+12</td>\n",
       "      <td>5620163</td>\n",
       "      <td>M</td>\n",
       "      <td>29</td>\n",
       "      <td>0</td>\n",
       "      <td>0</td>\n",
       "      <td>0</td>\n",
       "      <td>0</td>\n",
       "      <td>1</td>\n",
       "      <td>Yes</td>\n",
       "    </tr>\n",
       "    <tr>\n",
       "      <th>17</th>\n",
       "      <td>1.479497e+13</td>\n",
       "      <td>5633460</td>\n",
       "      <td>F</td>\n",
       "      <td>40</td>\n",
       "      <td>1</td>\n",
       "      <td>0</td>\n",
       "      <td>0</td>\n",
       "      <td>0</td>\n",
       "      <td>0</td>\n",
       "      <td>Yes</td>\n",
       "    </tr>\n",
       "    <tr>\n",
       "      <th>20</th>\n",
       "      <td>6.222575e+14</td>\n",
       "      <td>5626083</td>\n",
       "      <td>F</td>\n",
       "      <td>30</td>\n",
       "      <td>0</td>\n",
       "      <td>0</td>\n",
       "      <td>0</td>\n",
       "      <td>0</td>\n",
       "      <td>0</td>\n",
       "      <td>Yes</td>\n",
       "    </tr>\n",
       "    <tr>\n",
       "      <th>...</th>\n",
       "      <td>...</td>\n",
       "      <td>...</td>\n",
       "      <td>...</td>\n",
       "      <td>...</td>\n",
       "      <td>...</td>\n",
       "      <td>...</td>\n",
       "      <td>...</td>\n",
       "      <td>...</td>\n",
       "      <td>...</td>\n",
       "      <td>...</td>\n",
       "    </tr>\n",
       "    <tr>\n",
       "      <th>110484</th>\n",
       "      <td>5.133650e+14</td>\n",
       "      <td>5772155</td>\n",
       "      <td>F</td>\n",
       "      <td>45</td>\n",
       "      <td>0</td>\n",
       "      <td>0</td>\n",
       "      <td>0</td>\n",
       "      <td>0</td>\n",
       "      <td>0</td>\n",
       "      <td>Yes</td>\n",
       "    </tr>\n",
       "    <tr>\n",
       "      <th>110492</th>\n",
       "      <td>6.456342e+14</td>\n",
       "      <td>5786741</td>\n",
       "      <td>M</td>\n",
       "      <td>33</td>\n",
       "      <td>0</td>\n",
       "      <td>1</td>\n",
       "      <td>0</td>\n",
       "      <td>0</td>\n",
       "      <td>0</td>\n",
       "      <td>Yes</td>\n",
       "    </tr>\n",
       "    <tr>\n",
       "      <th>110496</th>\n",
       "      <td>8.544295e+13</td>\n",
       "      <td>5779046</td>\n",
       "      <td>F</td>\n",
       "      <td>37</td>\n",
       "      <td>0</td>\n",
       "      <td>1</td>\n",
       "      <td>0</td>\n",
       "      <td>0</td>\n",
       "      <td>0</td>\n",
       "      <td>Yes</td>\n",
       "    </tr>\n",
       "    <tr>\n",
       "      <th>110515</th>\n",
       "      <td>6.456342e+14</td>\n",
       "      <td>5778621</td>\n",
       "      <td>M</td>\n",
       "      <td>33</td>\n",
       "      <td>0</td>\n",
       "      <td>1</td>\n",
       "      <td>0</td>\n",
       "      <td>0</td>\n",
       "      <td>0</td>\n",
       "      <td>Yes</td>\n",
       "    </tr>\n",
       "    <tr>\n",
       "      <th>110516</th>\n",
       "      <td>6.923772e+13</td>\n",
       "      <td>5780205</td>\n",
       "      <td>F</td>\n",
       "      <td>37</td>\n",
       "      <td>0</td>\n",
       "      <td>0</td>\n",
       "      <td>0</td>\n",
       "      <td>0</td>\n",
       "      <td>0</td>\n",
       "      <td>Yes</td>\n",
       "    </tr>\n",
       "  </tbody>\n",
       "</table>\n",
       "<p>22319 rows × 10 columns</p>\n",
       "</div>"
      ],
      "text/plain": [
       "           PatientId  AppointmentID Gender  Age  Scholarship  Hipertension  \\\n",
       "6       7.336882e+14        5630279      F   23            0             0   \n",
       "7       3.449833e+12        5630575      F   39            0             0   \n",
       "11      7.542951e+12        5620163      M   29            0             0   \n",
       "17      1.479497e+13        5633460      F   40            1             0   \n",
       "20      6.222575e+14        5626083      F   30            0             0   \n",
       "...              ...            ...    ...  ...          ...           ...   \n",
       "110484  5.133650e+14        5772155      F   45            0             0   \n",
       "110492  6.456342e+14        5786741      M   33            0             1   \n",
       "110496  8.544295e+13        5779046      F   37            0             1   \n",
       "110515  6.456342e+14        5778621      M   33            0             1   \n",
       "110516  6.923772e+13        5780205      F   37            0             0   \n",
       "\n",
       "        Diabetes  Alcoholism  SMS_received No-show  \n",
       "6              0           0             0     Yes  \n",
       "7              0           0             0     Yes  \n",
       "11             0           0             1     Yes  \n",
       "17             0           0             0     Yes  \n",
       "20             0           0             0     Yes  \n",
       "...          ...         ...           ...     ...  \n",
       "110484         0           0             0     Yes  \n",
       "110492         0           0             0     Yes  \n",
       "110496         0           0             0     Yes  \n",
       "110515         0           0             0     Yes  \n",
       "110516         0           0             0     Yes  \n",
       "\n",
       "[22319 rows x 10 columns]"
      ]
     },
     "execution_count": 22,
     "metadata": {},
     "output_type": "execute_result"
    }
   ],
   "source": [
    "#showing the number of patients that showed up\n",
    "show = df_nsa[df_nsa['No-show'] == 'Yes']\n",
    "show"
   ]
  },
  {
   "cell_type": "code",
   "execution_count": 23,
   "id": "adf7a09b",
   "metadata": {},
   "outputs": [
    {
     "data": {
      "text/html": [
       "<div>\n",
       "<style scoped>\n",
       "    .dataframe tbody tr th:only-of-type {\n",
       "        vertical-align: middle;\n",
       "    }\n",
       "\n",
       "    .dataframe tbody tr th {\n",
       "        vertical-align: top;\n",
       "    }\n",
       "\n",
       "    .dataframe thead th {\n",
       "        text-align: right;\n",
       "    }\n",
       "</style>\n",
       "<table border=\"1\" class=\"dataframe\">\n",
       "  <thead>\n",
       "    <tr style=\"text-align: right;\">\n",
       "      <th></th>\n",
       "      <th>PatientId</th>\n",
       "      <th>AppointmentID</th>\n",
       "      <th>Gender</th>\n",
       "      <th>Age</th>\n",
       "      <th>Scholarship</th>\n",
       "      <th>Hipertension</th>\n",
       "      <th>Diabetes</th>\n",
       "      <th>Alcoholism</th>\n",
       "      <th>SMS_received</th>\n",
       "      <th>No-show</th>\n",
       "    </tr>\n",
       "  </thead>\n",
       "  <tbody>\n",
       "    <tr>\n",
       "      <th>0</th>\n",
       "      <td>2.987250e+13</td>\n",
       "      <td>5642903</td>\n",
       "      <td>F</td>\n",
       "      <td>62</td>\n",
       "      <td>0</td>\n",
       "      <td>1</td>\n",
       "      <td>0</td>\n",
       "      <td>0</td>\n",
       "      <td>0</td>\n",
       "      <td>No</td>\n",
       "    </tr>\n",
       "    <tr>\n",
       "      <th>1</th>\n",
       "      <td>5.589978e+14</td>\n",
       "      <td>5642503</td>\n",
       "      <td>M</td>\n",
       "      <td>56</td>\n",
       "      <td>0</td>\n",
       "      <td>0</td>\n",
       "      <td>0</td>\n",
       "      <td>0</td>\n",
       "      <td>0</td>\n",
       "      <td>No</td>\n",
       "    </tr>\n",
       "    <tr>\n",
       "      <th>2</th>\n",
       "      <td>4.262962e+12</td>\n",
       "      <td>5642549</td>\n",
       "      <td>F</td>\n",
       "      <td>62</td>\n",
       "      <td>0</td>\n",
       "      <td>0</td>\n",
       "      <td>0</td>\n",
       "      <td>0</td>\n",
       "      <td>0</td>\n",
       "      <td>No</td>\n",
       "    </tr>\n",
       "    <tr>\n",
       "      <th>3</th>\n",
       "      <td>8.679512e+11</td>\n",
       "      <td>5642828</td>\n",
       "      <td>F</td>\n",
       "      <td>8</td>\n",
       "      <td>0</td>\n",
       "      <td>0</td>\n",
       "      <td>0</td>\n",
       "      <td>0</td>\n",
       "      <td>0</td>\n",
       "      <td>No</td>\n",
       "    </tr>\n",
       "    <tr>\n",
       "      <th>4</th>\n",
       "      <td>8.841186e+12</td>\n",
       "      <td>5642494</td>\n",
       "      <td>F</td>\n",
       "      <td>56</td>\n",
       "      <td>0</td>\n",
       "      <td>1</td>\n",
       "      <td>1</td>\n",
       "      <td>0</td>\n",
       "      <td>0</td>\n",
       "      <td>No</td>\n",
       "    </tr>\n",
       "  </tbody>\n",
       "</table>\n",
       "</div>"
      ],
      "text/plain": [
       "      PatientId  AppointmentID Gender  Age  Scholarship  Hipertension  \\\n",
       "0  2.987250e+13        5642903      F   62            0             1   \n",
       "1  5.589978e+14        5642503      M   56            0             0   \n",
       "2  4.262962e+12        5642549      F   62            0             0   \n",
       "3  8.679512e+11        5642828      F    8            0             0   \n",
       "4  8.841186e+12        5642494      F   56            0             1   \n",
       "\n",
       "   Diabetes  Alcoholism  SMS_received No-show  \n",
       "0         0           0             0      No  \n",
       "1         0           0             0      No  \n",
       "2         0           0             0      No  \n",
       "3         0           0             0      No  \n",
       "4         1           0             0      No  "
      ]
     },
     "execution_count": 23,
     "metadata": {},
     "output_type": "execute_result"
    }
   ],
   "source": [
    "#showing the number of patients that did not show up\n",
    "no_show = df_nsa[df_nsa['No-show'] == 'No']\n",
    "no_show.head()"
   ]
  },
  {
   "cell_type": "code",
   "execution_count": 24,
   "id": "9be7fdff",
   "metadata": {},
   "outputs": [
    {
     "data": {
      "image/png": "[encoded data removed]",
      "text/plain": [
       "<Figure size 360x360 with 1 Axes>"
      ]
     },
     "metadata": {
      "needs_background": "light"
     },
     "output_type": "display_data"
    }
   ],
   "source": [
    "# Visualising the scholarsip column\n",
    "def Histogram(arg):\n",
    "    df_nsa[arg].hist(figsize = (5,5))\n",
    "    \n",
    "Histogram('Scholarship')"
   ]
  },
  {
   "cell_type": "markdown",
   "id": "cd719628",
   "metadata": {},
   "source": [
    "With the scholarship column, '0' means the patients don't have a scholarship, and '1' means the patients are on scholarship"
   ]
  },
  {
   "cell_type": "markdown",
   "id": "294e2c14",
   "metadata": {},
   "source": [
    "# <a id='eda'></a>\n",
    "# Exploratory Data Analysis"
   ]
  },
  {
   "cell_type": "markdown",
   "id": "c1b36556",
   "metadata": {},
   "source": [
    "\n",
    "## Question 1\n",
    "### What is the relation between the \" **Age** \" and the \" No-column \" column?"
   ]
  },
  {
   "cell_type": "code",
   "execution_count": 25,
   "id": "4622501c",
   "metadata": {
    "scrolled": false
   },
   "outputs": [
    {
     "data": {
      "text/html": [
       "<div>\n",
       "<style scoped>\n",
       "    .dataframe tbody tr th:only-of-type {\n",
       "        vertical-align: middle;\n",
       "    }\n",
       "\n",
       "    .dataframe tbody tr th {\n",
       "        vertical-align: top;\n",
       "    }\n",
       "\n",
       "    .dataframe thead th {\n",
       "        text-align: right;\n",
       "    }\n",
       "</style>\n",
       "<table border=\"1\" class=\"dataframe\">\n",
       "  <thead>\n",
       "    <tr style=\"text-align: right;\">\n",
       "      <th></th>\n",
       "      <th>PatientId</th>\n",
       "      <th>AppointmentID</th>\n",
       "      <th>Gender</th>\n",
       "      <th>Age</th>\n",
       "      <th>Scholarship</th>\n",
       "      <th>Hipertension</th>\n",
       "      <th>Diabetes</th>\n",
       "      <th>Alcoholism</th>\n",
       "      <th>SMS_received</th>\n",
       "      <th>No-show</th>\n",
       "    </tr>\n",
       "  </thead>\n",
       "  <tbody>\n",
       "    <tr>\n",
       "      <th>0</th>\n",
       "      <td>2.987250e+13</td>\n",
       "      <td>5642903</td>\n",
       "      <td>F</td>\n",
       "      <td>62</td>\n",
       "      <td>0</td>\n",
       "      <td>1</td>\n",
       "      <td>0</td>\n",
       "      <td>0</td>\n",
       "      <td>0</td>\n",
       "      <td>No</td>\n",
       "    </tr>\n",
       "    <tr>\n",
       "      <th>1</th>\n",
       "      <td>5.589978e+14</td>\n",
       "      <td>5642503</td>\n",
       "      <td>M</td>\n",
       "      <td>56</td>\n",
       "      <td>0</td>\n",
       "      <td>0</td>\n",
       "      <td>0</td>\n",
       "      <td>0</td>\n",
       "      <td>0</td>\n",
       "      <td>No</td>\n",
       "    </tr>\n",
       "    <tr>\n",
       "      <th>2</th>\n",
       "      <td>4.262962e+12</td>\n",
       "      <td>5642549</td>\n",
       "      <td>F</td>\n",
       "      <td>62</td>\n",
       "      <td>0</td>\n",
       "      <td>0</td>\n",
       "      <td>0</td>\n",
       "      <td>0</td>\n",
       "      <td>0</td>\n",
       "      <td>No</td>\n",
       "    </tr>\n",
       "    <tr>\n",
       "      <th>3</th>\n",
       "      <td>8.679512e+11</td>\n",
       "      <td>5642828</td>\n",
       "      <td>F</td>\n",
       "      <td>8</td>\n",
       "      <td>0</td>\n",
       "      <td>0</td>\n",
       "      <td>0</td>\n",
       "      <td>0</td>\n",
       "      <td>0</td>\n",
       "      <td>No</td>\n",
       "    </tr>\n",
       "    <tr>\n",
       "      <th>4</th>\n",
       "      <td>8.841186e+12</td>\n",
       "      <td>5642494</td>\n",
       "      <td>F</td>\n",
       "      <td>56</td>\n",
       "      <td>0</td>\n",
       "      <td>1</td>\n",
       "      <td>1</td>\n",
       "      <td>0</td>\n",
       "      <td>0</td>\n",
       "      <td>No</td>\n",
       "    </tr>\n",
       "  </tbody>\n",
       "</table>\n",
       "</div>"
      ],
      "text/plain": [
       "      PatientId  AppointmentID Gender  Age  Scholarship  Hipertension  \\\n",
       "0  2.987250e+13        5642903      F   62            0             1   \n",
       "1  5.589978e+14        5642503      M   56            0             0   \n",
       "2  4.262962e+12        5642549      F   62            0             0   \n",
       "3  8.679512e+11        5642828      F    8            0             0   \n",
       "4  8.841186e+12        5642494      F   56            0             1   \n",
       "\n",
       "   Diabetes  Alcoholism  SMS_received No-show  \n",
       "0         0           0             0      No  \n",
       "1         0           0             0      No  \n",
       "2         0           0             0      No  \n",
       "3         0           0             0      No  \n",
       "4         1           0             0      No  "
      ]
     },
     "execution_count": 25,
     "metadata": {},
     "output_type": "execute_result"
    }
   ],
   "source": [
    "df_nsa.head()"
   ]
  },
  {
   "cell_type": "code",
   "execution_count": 26,
   "id": "8688ec4b",
   "metadata": {
    "scrolled": false
   },
   "outputs": [
    {
     "data": {
      "text/plain": [
       "No-show\n",
       "No     37.790504\n",
       "Yes    34.317667\n",
       "Name: Age, dtype: float64"
      ]
     },
     "execution_count": 26,
     "metadata": {},
     "output_type": "execute_result"
    }
   ],
   "source": [
    "# show the mean age as grouped by showing up and not showing up for an appointment\n",
    "df_nsa.groupby('No-show').Age.mean()"
   ]
  },
  {
   "cell_type": "code",
   "execution_count": 27,
   "id": "b90e4bed",
   "metadata": {},
   "outputs": [],
   "source": [
    "# assigning the patients who showed up and those who did not show up to the appointment\n",
    "showed = df_nsa['No-show'] == 'Yes'\n",
    "noshow = df_nsa['No-show'] == 'No'\n",
    "\n"
   ]
  },
  {
   "cell_type": "code",
   "execution_count": 28,
   "id": "aa5fb26d",
   "metadata": {
    "scrolled": true
   },
   "outputs": [
    {
     "data": {
      "text/plain": [
       "22319"
      ]
     },
     "execution_count": 28,
     "metadata": {},
     "output_type": "execute_result"
    }
   ],
   "source": [
    "df_nsa.Age[showed].count()"
   ]
  },
  {
   "cell_type": "code",
   "execution_count": 29,
   "id": "3e48034c",
   "metadata": {},
   "outputs": [
    {
     "data": {
      "text/plain": [
       "88207"
      ]
     },
     "execution_count": 29,
     "metadata": {},
     "output_type": "execute_result"
    }
   ],
   "source": [
    "df_nsa.Age[noshow].count()"
   ]
  },
  {
   "cell_type": "code",
   "execution_count": 30,
   "id": "cd6e7bab",
   "metadata": {
    "scrolled": false
   },
   "outputs": [
    {
     "data": {
      "text/plain": [
       "34.31766656212196"
      ]
     },
     "execution_count": 30,
     "metadata": {},
     "output_type": "execute_result"
    }
   ],
   "source": [
    "df_nsa.Age[showed].mean()"
   ]
  },
  {
   "cell_type": "code",
   "execution_count": 31,
   "id": "cde97136",
   "metadata": {
    "scrolled": true
   },
   "outputs": [
    {
     "data": {
      "text/plain": [
       "37.790504154999034"
      ]
     },
     "execution_count": 31,
     "metadata": {},
     "output_type": "execute_result"
    }
   ],
   "source": [
    "df_nsa.Age[noshow].mean()"
   ]
  },
  {
   "cell_type": "code",
   "execution_count": 32,
   "id": "dec53210",
   "metadata": {},
   "outputs": [],
   "source": [
    "import matplotlib.pyplot as plt\n",
    "%matplotlib inline\n",
    "import seaborn as sns\n",
    "from matplotlib import style"
   ]
  },
  {
   "cell_type": "code",
   "execution_count": 33,
   "id": "c4527e1b",
   "metadata": {},
   "outputs": [
    {
     "data": {
      "image/png": "[encoded data removed]",
      "text/plain": [
       "<Figure size 432x288 with 1 Axes>"
      ]
     },
     "metadata": {
      "needs_background": "light"
     },
     "output_type": "display_data"
    }
   ],
   "source": [
    "df_nsa.Age[showed].hist(alpha=0.5, bins=10, label='showed')\n",
    "df_nsa.Age[noshow].hist(alpha=0.5,bins=10, label='noshow')\n",
    "plt.title('Correlation between the Age of the patients and their attendance of an appointment')\n",
    "plt.xlabel('Age')\n",
    "plt.ylabel('No-show')\n",
    "plt.legend();"
   ]
  },
  {
   "cell_type": "markdown",
   "id": "f1f42649",
   "metadata": {},
   "source": [
    "\"noshow\" means that the patients showed up for the appointmnet\n",
    "\"showed\" means that the patients did not show up for the appointment"
   ]
  },
  {
   "cell_type": "markdown",
   "id": "03e4c310",
   "metadata": {},
   "source": [
    "**From the bar graph above, we can conclude that most of the older patients come for an appointment when they book it, whiles those who are comparably younger, missed most of the appointment**"
   ]
  },
  {
   "cell_type": "markdown",
   "id": "6bdd9aa3",
   "metadata": {},
   "source": [
    "## Question 2\n",
    "###  What is the Gender distribution of the Scholarship among the patients\n"
   ]
  },
  {
   "cell_type": "code",
   "execution_count": 46,
   "id": "7f9624c0",
   "metadata": {},
   "outputs": [
    {
     "data": {
      "text/html": [
       "<div>\n",
       "<style scoped>\n",
       "    .dataframe tbody tr th:only-of-type {\n",
       "        vertical-align: middle;\n",
       "    }\n",
       "\n",
       "    .dataframe tbody tr th {\n",
       "        vertical-align: top;\n",
       "    }\n",
       "\n",
       "    .dataframe thead th {\n",
       "        text-align: right;\n",
       "    }\n",
       "</style>\n",
       "<table border=\"1\" class=\"dataframe\">\n",
       "  <thead>\n",
       "    <tr style=\"text-align: right;\">\n",
       "      <th></th>\n",
       "      <th>PatientId</th>\n",
       "      <th>AppointmentID</th>\n",
       "      <th>Gender</th>\n",
       "      <th>Age</th>\n",
       "      <th>Scholarship</th>\n",
       "      <th>Hipertension</th>\n",
       "      <th>Diabetes</th>\n",
       "      <th>Alcoholism</th>\n",
       "      <th>SMS_received</th>\n",
       "      <th>No-show</th>\n",
       "    </tr>\n",
       "  </thead>\n",
       "  <tbody>\n",
       "    <tr>\n",
       "      <th>0</th>\n",
       "      <td>2.987250e+13</td>\n",
       "      <td>5642903</td>\n",
       "      <td>F</td>\n",
       "      <td>62</td>\n",
       "      <td>0</td>\n",
       "      <td>1</td>\n",
       "      <td>0</td>\n",
       "      <td>0</td>\n",
       "      <td>0</td>\n",
       "      <td>No</td>\n",
       "    </tr>\n",
       "    <tr>\n",
       "      <th>1</th>\n",
       "      <td>5.589978e+14</td>\n",
       "      <td>5642503</td>\n",
       "      <td>M</td>\n",
       "      <td>56</td>\n",
       "      <td>0</td>\n",
       "      <td>0</td>\n",
       "      <td>0</td>\n",
       "      <td>0</td>\n",
       "      <td>0</td>\n",
       "      <td>No</td>\n",
       "    </tr>\n",
       "    <tr>\n",
       "      <th>2</th>\n",
       "      <td>4.262962e+12</td>\n",
       "      <td>5642549</td>\n",
       "      <td>F</td>\n",
       "      <td>62</td>\n",
       "      <td>0</td>\n",
       "      <td>0</td>\n",
       "      <td>0</td>\n",
       "      <td>0</td>\n",
       "      <td>0</td>\n",
       "      <td>No</td>\n",
       "    </tr>\n",
       "    <tr>\n",
       "      <th>3</th>\n",
       "      <td>8.679512e+11</td>\n",
       "      <td>5642828</td>\n",
       "      <td>F</td>\n",
       "      <td>8</td>\n",
       "      <td>0</td>\n",
       "      <td>0</td>\n",
       "      <td>0</td>\n",
       "      <td>0</td>\n",
       "      <td>0</td>\n",
       "      <td>No</td>\n",
       "    </tr>\n",
       "    <tr>\n",
       "      <th>4</th>\n",
       "      <td>8.841186e+12</td>\n",
       "      <td>5642494</td>\n",
       "      <td>F</td>\n",
       "      <td>56</td>\n",
       "      <td>0</td>\n",
       "      <td>1</td>\n",
       "      <td>1</td>\n",
       "      <td>0</td>\n",
       "      <td>0</td>\n",
       "      <td>No</td>\n",
       "    </tr>\n",
       "  </tbody>\n",
       "</table>\n",
       "</div>"
      ],
      "text/plain": [
       "      PatientId  AppointmentID Gender  Age  Scholarship  Hipertension  \\\n",
       "0  2.987250e+13        5642903      F   62            0             1   \n",
       "1  5.589978e+14        5642503      M   56            0             0   \n",
       "2  4.262962e+12        5642549      F   62            0             0   \n",
       "3  8.679512e+11        5642828      F    8            0             0   \n",
       "4  8.841186e+12        5642494      F   56            0             1   \n",
       "\n",
       "   Diabetes  Alcoholism  SMS_received No-show  \n",
       "0         0           0             0      No  \n",
       "1         0           0             0      No  \n",
       "2         0           0             0      No  \n",
       "3         0           0             0      No  \n",
       "4         1           0             0      No  "
      ]
     },
     "execution_count": 46,
     "metadata": {},
     "output_type": "execute_result"
    }
   ],
   "source": [
    "#display the dataset\n",
    "df_nsa.head()"
   ]
  },
  {
   "cell_type": "code",
   "execution_count": 54,
   "id": "6c2c3ae1",
   "metadata": {
    "scrolled": true
   },
   "outputs": [
    {
     "data": {
      "image/png": "[encoded data removed]",
      "text/plain": [
       "<Figure size 432x288 with 1 Axes>"
      ]
     },
     "metadata": {
      "needs_background": "light"
     },
     "output_type": "display_data"
    }
   ],
   "source": [
    "# Showing the Gender distribution of the Scholarship among the patients\n",
    "df_nsa.groupby('Gender').Scholarship.mean().plot(kind = 'bar', title = 'Gender distribution of scholarship');"
   ]
  },
  {
   "cell_type": "markdown",
   "id": "d5d480f2",
   "metadata": {},
   "source": [
    "**From the graph above, we can conclude that the number of females on the scholarship more than the number of males on the schorlaship.**"
   ]
  },
  {
   "cell_type": "markdown",
   "id": "4ea086c0",
   "metadata": {},
   "source": [
    "# Question 3"
   ]
  },
  {
   "cell_type": "markdown",
   "id": "11ab7791",
   "metadata": {},
   "source": [
    "## **What is the distribution of patients between scholarship and disease?**\n"
   ]
  },
  {
   "cell_type": "code",
   "execution_count": 137,
   "id": "96fb40ed",
   "metadata": {},
   "outputs": [],
   "source": [
    "# assign patients who have disease to new variable\n",
    "h_yes = df_nsa['Hipertension'] == True\n",
    "d_yes = df_nsa['Diabetes'] == True\n",
    "a_yes = df_nsa['Alcoholism'] == True"
   ]
  },
  {
   "cell_type": "code",
   "execution_count": 138,
   "id": "f4583683",
   "metadata": {},
   "outputs": [],
   "source": [
    "s_yes = df_nsa['Scholarship'] == True"
   ]
  },
  {
   "cell_type": "code",
   "execution_count": 146,
   "id": "a048f097",
   "metadata": {
    "scrolled": true
   },
   "outputs": [
    {
     "data": {
      "image/png": "[encoded data removed]",
      "text/plain": [
       "<Figure size 432x288 with 1 Axes>"
      ]
     },
     "metadata": {
      "needs_background": "light"
     },
     "output_type": "display_data"
    }
   ],
   "source": [
    "# distribution of patients with hipertension and their scholarship status\n",
    "df_nsa.groupby([h_yes]).Scholarship.mean().plot(kind = 'bar', title = 'Hipertension distribution of scholarship');"
   ]
  },
  {
   "cell_type": "markdown",
   "id": "a407f421",
   "metadata": {},
   "source": [
    "**From the graph, we can see that most of the patients who do not have Hipertension are on the scholarship program.**"
   ]
  },
  {
   "cell_type": "code",
   "execution_count": 147,
   "id": "1d647b0e",
   "metadata": {},
   "outputs": [
    {
     "data": {
      "image/png": "[encoded data removed]",
      "text/plain": [
       "<Figure size 432x288 with 1 Axes>"
      ]
     },
     "metadata": {
      "needs_background": "light"
     },
     "output_type": "display_data"
    }
   ],
   "source": [
    "# distribution of patients with Diabetes and their scholarship status\n",
    "\n",
    "df_nsa.groupby([d_yes]).Scholarship.mean().plot(kind = 'bar', title = 'Diabetes distribution of scholarship');"
   ]
  },
  {
   "cell_type": "markdown",
   "id": "9ada6cd0",
   "metadata": {},
   "source": [
    "**With the information from the graph, we can see that most of the patients who do not have Diabetes are on the scholarship program.**"
   ]
  },
  {
   "cell_type": "code",
   "execution_count": 148,
   "id": "344aaedc",
   "metadata": {
    "scrolled": false
   },
   "outputs": [
    {
     "data": {
      "image/png": "[encoded data removed]",
      "text/plain": [
       "<Figure size 432x288 with 1 Axes>"
      ]
     },
     "metadata": {
      "needs_background": "light"
     },
     "output_type": "display_data"
    }
   ],
   "source": [
    "# distribution of patients with Alcoholism and their scholarship status\n",
    "\n",
    "df_nsa.groupby([a_yes]).Scholarship.mean().plot(kind = 'bar', title = 'Alcoholism distribution of scholarship');"
   ]
  },
  {
   "cell_type": "markdown",
   "id": "d35e4828",
   "metadata": {},
   "source": [
    "**From the graph above, we can conclude that, most of the patients who are alcoholic are on the scholarship program.**"
   ]
  },
  {
   "cell_type": "markdown",
   "id": "e07700b7",
   "metadata": {},
   "source": [
    "## Limitations"
   ]
  },
  {
   "cell_type": "markdown",
   "id": "d0e12d72",
   "metadata": {},
   "source": [
    "some of the codes were giving me hard time with errors, but I don't think of it as a learning process"
   ]
  }
 ],
 "metadata": {
  "kernelspec": {
   "display_name": "Python 3 (ipykernel)",
   "language": "python",
   "name": "python3"
  },
  "language_info": {
   "codemirror_mode": {
    "name": "ipython",
    "version": 3
   },
   "file_extension": ".py",
   "mimetype": "text/x-python",
   "name": "python",
   "nbconvert_exporter": "python",
   "pygments_lexer": "ipython3",
   "version": "3.9.12"
  }
 },
 "nbformat": 4,
 "nbformat_minor": 5
}
